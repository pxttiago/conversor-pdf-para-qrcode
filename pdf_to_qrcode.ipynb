{
  "nbformat": 4,
  "nbformat_minor": 0,
  "metadata": {
    "colab": {
      "provenance": [],
      "authorship_tag": "ABX9TyNJQ0+8fwamHWHptXRe83f7",
      "include_colab_link": true
    },
    "kernelspec": {
      "name": "python3",
      "display_name": "Python 3"
    },
    "language_info": {
      "name": "python"
    }
  },
  "cells": [
    {
      "cell_type": "markdown",
      "metadata": {
        "id": "view-in-github",
        "colab_type": "text"
      },
      "source": [
        "<a href=\"https://colab.research.google.com/github/pxttiago/conversor-pdf-para-qrcode/blob/main/pdf_to_qrcode.ipynb\" target=\"_parent\"><img src=\"https://colab.research.google.com/assets/colab-badge.svg\" alt=\"Open In Colab\"/></a>"
      ]
    },
    {
      "cell_type": "code",
      "source": [
        "!pip install qrcode\n",
        "!pip install PyPDF2"
      ],
      "metadata": {
        "id": "L3K9i6cRbK74"
      },
      "execution_count": null,
      "outputs": []
    },
    {
      "cell_type": "code",
      "execution_count": 7,
      "metadata": {
        "id": "jJWrWX3uJ9Vl"
      },
      "outputs": [],
      "source": [
        "import qrcode\n",
        "import PyPDF2\n",
        "\n",
        "# abrir o arquivo PDF\n",
        "pdf_file = open('Lorem Ipsum 2.pdf', 'rb')\n",
        "pdf_reader = PyPDF2.PdfReader(pdf_file)\n",
        "\n",
        "\n",
        "# extrair o texto do PDF\n",
        "pdf_text = ''\n",
        "for page in pdf_reader.pages:\n",
        "    pdf_text += page.extract_text()\n",
        "\n",
        "# criar o código QR\n",
        "qr = qrcode.QRCode(version=1, box_size=10, border=5)\n",
        "qr.add_data(pdf_text)\n",
        "qr.make(fit=True)\n",
        "\n",
        "# salvar o código QR em um arquivo de imagem\n",
        "img = qr.make_image(fill_color='black', back_color='white')\n",
        "img.save('codigo_qr.png')\n"
      ]
    }
  ]
}